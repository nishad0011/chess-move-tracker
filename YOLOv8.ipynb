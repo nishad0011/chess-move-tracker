{
 "cells": [
  {
   "cell_type": "code",
   "execution_count": null,
   "metadata": {},
   "outputs": [
    {
     "ename": "",
     "evalue": "",
     "output_type": "error",
     "traceback": [
      "\u001b[1;31mFailed to start the Kernel. \n",
      "\u001b[1;31mUnable to start Kernel 'Python 3.12.2' due to a connection timeout. \n",
      "\u001b[1;31mView Jupyter <a href='command:jupyter.viewOutput'>log</a> for further details."
     ]
    }
   ],
   "source": [
    "from ultralytics import YOLO"
   ]
  },
  {
   "cell_type": "code",
   "execution_count": 2,
   "metadata": {},
   "outputs": [],
   "source": [
    "model = YOLO('./YOLOv8/runs/detect/train/weights/best.pt')"
   ]
  },
  {
   "cell_type": "code",
   "execution_count": 3,
   "metadata": {},
   "outputs": [
    {
     "name": "stdout",
     "output_type": "stream",
     "text": [
      "\n",
      "image 1/1 z:\\Program Code\\Python\\Chess\\move0.jpg: 416x416 2 black-bishops, 1 black-king, 1 black-knight, 2 black-pawns, 1 black-rook, 2 white-bishops, 1 white-king, 1 white-knight, 1 white-pawn, 1 white-queen, 1 white-rook, 4039.9ms\n",
      "Speed: 389.6ms preprocess, 4039.9ms inference, 275.1ms postprocess per image at shape (1, 3, 416, 416)\n"
     ]
    }
   ],
   "source": [
    "results =model.predict('./move0.jpg')"
   ]
  },
  {
   "cell_type": "code",
   "execution_count": 4,
   "metadata": {},
   "outputs": [
    {
     "data": {
      "text/plain": [
       "' for r in results:\\n    boxes = r.boxes\\n    for box in boxes:\\n        b = box.xywh[0]\\n        c = box.cls\\n        print(str(b)+\" is \"+str(c)) '"
      ]
     },
     "execution_count": 4,
     "metadata": {},
     "output_type": "execute_result"
    }
   ],
   "source": [
    "\"\"\" for r in results:\n",
    "    boxes = r.boxes\n",
    "    for box in boxes:\n",
    "        b = box.xywh[0]\n",
    "        c = box.cls\n",
    "        print(str(b)+\" is \"+str(c)) \"\"\""
   ]
  },
  {
   "cell_type": "code",
   "execution_count": 5,
   "metadata": {},
   "outputs": [
    {
     "data": {
      "text/plain": [
       "' for r in results:\\n    detection_count = r.boxes.shape[0]\\n    print(detection_count) '"
      ]
     },
     "execution_count": 5,
     "metadata": {},
     "output_type": "execute_result"
    }
   ],
   "source": [
    "\"\"\" for r in results:\n",
    "    detection_count = r.boxes.shape[0]\n",
    "    print(detection_count) \"\"\""
   ]
  },
  {
   "cell_type": "code",
   "execution_count": 6,
   "metadata": {},
   "outputs": [
    {
     "data": {
      "text/plain": [
       "' for result in results:\\n\\n    detection_count = result.boxes.shape[0]\\n\\n    for i in range(detection_count):\\n        cls = int(result.boxes.cls[i].item())\\n        name = result.names[cls]\\n        confidence = float(result.boxes.conf[i].item())\\n        bounding_box = result.boxes.xyxy[i].cpu().numpy()\\n\\n        x = int(bounding_box[0])\\n        y = int(bounding_box[1])\\n        width = int(bounding_box[2] - x)\\n        height = int(bounding_box[3] - y)\\n\\n        print(f\"name : {name}, (x,y) = ({x},{y})\") '"
      ]
     },
     "execution_count": 6,
     "metadata": {},
     "output_type": "execute_result"
    }
   ],
   "source": [
    "\"\"\" for result in results:\n",
    "\n",
    "    detection_count = result.boxes.shape[0]\n",
    "\n",
    "    for i in range(detection_count):\n",
    "        cls = int(result.boxes.cls[i].item())\n",
    "        name = result.names[cls]\n",
    "        confidence = float(result.boxes.conf[i].item())\n",
    "        bounding_box = result.boxes.xyxy[i].cpu().numpy()\n",
    "\n",
    "        x = int(bounding_box[0])\n",
    "        y = int(bounding_box[1])\n",
    "        width = int(bounding_box[2] - x)\n",
    "        height = int(bounding_box[3] - y)\n",
    "\n",
    "        print(f\"name : {name}, (x,y) = ({x},{y})\") \"\"\""
   ]
  },
  {
   "cell_type": "code",
   "execution_count": 14,
   "metadata": {},
   "outputs": [
    {
     "name": "stdout",
     "output_type": "stream",
     "text": [
      "{0: ['black-bishop', (145.229, 64.5175, 25.3485, 62.5342)], 1: ['black-rook', (274.3456, 68.7882, 26.8786, 54.0489)], 2: ['white-knight', (79.9763, 62.6289, 30.0702, 64.4431)], 3: ['white-bishop', (61.244, 267.4126, 32.8189, 65.6556)], 4: ['white-queen', (182.0623, 62.1887, 28.9344, 73.6199)], 5: ['white-king', (72.1473, 165.2027, 37.7857, 89.6613)], 6: ['black-king', (318.9753, 126.7951, 36.6845, 85.6313)], 7: ['black-pawn', (290.7133, 225.849, 24.4498, 50.0181)], 8: ['white-bishop', (208.8752, 30.2432, 24.4234, 58.1365)], 9: ['black-pawn', (215.2393, 145.3759, 22.3766, 48.1175)], 10: ['black-knight', (268.2615, 319.436, 31.8515, 69.6694)], 11: ['white-pawn', (142.3823, 226.5931, 27.2477, 52.8395)], 12: ['black-bishop', (222.3599, 224.1397, 28.1539, 62.5126)], 13: ['white-rook', (210.6001, 399.0271, 40.2375, 33.9459)]}\n"
     ]
    }
   ],
   "source": [
    "def split(s):\n",
    "    st = str(s)\n",
    "    return float(st[7:-1])\n",
    "def run_yolo():\n",
    "    piecebox={}\n",
    "    for result in results:\n",
    "\n",
    "        detection_count = result.boxes.shape[0]\n",
    "\n",
    "        for i in range(detection_count):\n",
    "            cls = int(result.boxes.cls[i].item())\n",
    "            name = result.names[cls]\n",
    "            bx = (split(result.boxes.xywh[i][0]),\n",
    "                  split(result.boxes.xywh[i][1]),\n",
    "                  split(result.boxes.xywh[i][2]),\n",
    "                  split(result.boxes.xywh[i][3]))\n",
    "            piecebox[i]= [name,bx]\n",
    "\n",
    "    print(piecebox)\n",
    "run_yolo()"
   ]
  }
 ],
 "metadata": {
  "kernelspec": {
   "display_name": "Python 3",
   "language": "python",
   "name": "python3"
  },
  "language_info": {
   "codemirror_mode": {
    "name": "ipython",
    "version": 3
   },
   "file_extension": ".py",
   "mimetype": "text/x-python",
   "name": "python",
   "nbconvert_exporter": "python",
   "pygments_lexer": "ipython3",
   "version": "3.12.2"
  }
 },
 "nbformat": 4,
 "nbformat_minor": 2
}
